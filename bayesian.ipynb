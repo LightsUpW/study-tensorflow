{
 "cells": [
  {
   "cell_type": "markdown",
   "metadata": {},
   "source": [
    "### 贝叶斯优化优势\n",
    "\n",
    "1、可以考虑先验信息，来不断更新先验；\n",
    "\n",
    "2、相比网格搜索，迭代次数少速度快；\n",
    "\n",
    "3、针对非凸问题依然稳健；\n"
   ]
  },
  {
   "cell_type": "markdown",
   "metadata": {},
   "source": [
    "-----\n",
    "### 安装"
   ]
  },
  {
   "cell_type": "raw",
   "metadata": {},
   "source": [
    "# pip install bayesian-optimization\n",
    "\n",
    "pip install git+https://github.com/fmfn/BayesianOptimization.git\n",
    "\n",
    "git clone https://github.com/fmfn/BayesianOptimization.git\n",
    "cd BayesianOptimization\n",
    "python setup.py install"
   ]
  },
  {
   "cell_type": "markdown",
   "metadata": {},
   "source": [
    "-----\n",
    "###   Tutorial Code\n",
    "https://github.com/fmfn/BayesianOptimization\n"
   ]
  },
  {
   "cell_type": "code",
   "execution_count": 1,
   "metadata": {},
   "outputs": [],
   "source": [
    "def black_box_function(x, y):\n",
    "    \"\"\"Function with unknown internals we wish to maximize.\n",
    "\n",
    "    This is just serving as an example, for all intents and\n",
    "    purposes think of the internals of this function, i.e.: the process\n",
    "    which generates its output values, as unknown.\n",
    "    \"\"\"\n",
    "    return -x ** 2 - (y - 1) ** 2 + 1"
   ]
  },
  {
   "cell_type": "code",
   "execution_count": 2,
   "metadata": {},
   "outputs": [],
   "source": [
    "from bayes_opt import BayesianOptimization\n",
    "\n",
    "# Bounded region of parameter space\n",
    "pbounds = {'x': (2, 4), 'y': (-3, 3)}\n",
    "\n",
    "optimizer = BayesianOptimization(\n",
    "    f=black_box_function,\n",
    "    pbounds=pbounds,\n",
    "    random_state=1,\n",
    ")"
   ]
  },
  {
   "cell_type": "code",
   "execution_count": null,
   "metadata": {},
   "outputs": [
    {
     "name": "stdout",
     "output_type": "stream",
     "text": [
      "|   iter    |  target   |     x     |     y     |\n",
      "-------------------------------------------------\n",
      "| \u001b[0m 1       \u001b[0m | \u001b[0m-7.135   \u001b[0m | \u001b[0m 2.834   \u001b[0m | \u001b[0m 1.322   \u001b[0m |\n",
      "| \u001b[0m 2       \u001b[0m | \u001b[0m-7.78    \u001b[0m | \u001b[0m 2.0     \u001b[0m | \u001b[0m-1.186   \u001b[0m |\n",
      "| \u001b[0m 3       \u001b[0m | \u001b[0m-19.0    \u001b[0m | \u001b[0m 4.0     \u001b[0m | \u001b[0m 3.0     \u001b[0m |\n",
      "| \u001b[0m 4       \u001b[0m | \u001b[0m-16.3    \u001b[0m | \u001b[0m 2.378   \u001b[0m | \u001b[0m-2.413   \u001b[0m |\n",
      "| \u001b[95m 5       \u001b[0m | \u001b[95m-4.441   \u001b[0m | \u001b[95m 2.105   \u001b[0m | \u001b[95m-0.005822\u001b[0m |\n",
      "=================================================\n",
      "{'params': {'y': -0.005822117636089974, 'x': 2.104665051994087}, 'target': -4.441293113411222}\n"
     ]
    }
   ],
   "source": [
    "optimizer.maximize(\n",
    "    init_points=2, #起始随机测试次数\n",
    "    n_iter=3,      #优化迭代次数\n",
    ")\n",
    "print(optimizer.max)\n",
    "#  optimizer.res[0]"
   ]
  },
  {
   "cell_type": "code",
   "execution_count": null,
   "metadata": {},
   "outputs": [
    {
     "name": "stdout",
     "output_type": "stream",
     "text": [
      "|   iter    |  target   |     x     |     y     |\n",
      "-------------------------------------------------\n",
      "| \u001b[0m 6       \u001b[0m | \u001b[0m-5.145   \u001b[0m | \u001b[0m 2.115   \u001b[0m | \u001b[0m-0.2924  \u001b[0m |\n"
     ]
    }
   ],
   "source": [
    "#   调整参数边界\n",
    "optimizer.set_bounds(new_bounds={\"x\": (-2, 3)})\n",
    "\n",
    "optimizer.maximize(\n",
    "    init_points=0,\n",
    "    n_iter=5,\n",
    ")"
   ]
  },
  {
   "cell_type": "code",
   "execution_count": 40,
   "metadata": {},
   "outputs": [
    {
     "name": "stdout",
     "output_type": "stream",
     "text": [
      "|   iter    |  target   |     x     |     y     |\n",
      "-------------------------------------------------\n",
      "| \u001b[95m 11      \u001b[0m | \u001b[95m 0.66    \u001b[0m | \u001b[95m 0.5     \u001b[0m | \u001b[95m 0.7     \u001b[0m |\n",
      "| \u001b[0m 12      \u001b[0m | \u001b[0m 0.1     \u001b[0m | \u001b[0m-0.3     \u001b[0m | \u001b[0m 0.1     \u001b[0m |\n",
      "=================================================\n"
     ]
    }
   ],
   "source": [
    "#   指定点进行贝叶斯优化\n",
    "optimizer.probe(\n",
    "    params={\"x\": 0.5, \"y\": 0.7},\n",
    "    lazy=True,\n",
    ")\n",
    "\n",
    "optimizer.probe(\n",
    "    params=[-0.3, 0.1],\n",
    "    lazy=True,\n",
    ")\n",
    "\n",
    "# Will probe only the two points specified above\n",
    "optimizer.maximize(init_points=0, n_iter=0)"
   ]
  },
  {
   "cell_type": "code",
   "execution_count": null,
   "metadata": {},
   "outputs": [],
   "source": [
    "#   保存优化过程\n",
    "from bayes_opt.observer import JSONLogger\n",
    "from bayes_opt.event import Events\n",
    "\n",
    "logger = JSONLogger(path=\"./bayesopt_model.json\")\n",
    "optimizer.subscribe(Events.OPTMIZATION_STEP, logger)\n",
    "\n",
    "# Results will be saved in ./logs.json\n",
    "optimizer.maximize(\n",
    "    init_points=2,\n",
    "    n_iter=3,\n",
    ")"
   ]
  },
  {
   "cell_type": "code",
   "execution_count": null,
   "metadata": {},
   "outputs": [],
   "source": [
    "#   读取优化过程\n",
    "from bayes_opt.util import load_logs\n",
    "\n",
    "\n",
    "new_optimizer = BayesianOptimization(\n",
    "    f=black_box_function,\n",
    "    pbounds={\"x\": (-2, 2), \"y\": (-2, 2)},\n",
    "    verbose=2,\n",
    "    random_state=7,\n",
    ")\n",
    "\n",
    "# New optimizer is loaded with previously seen points\n",
    "load_logs(new_optimizer, logs=[\"./logs.json\"]);"
   ]
  },
  {
   "cell_type": "markdown",
   "metadata": {},
   "source": [
    "------\n",
    "### 博客\n",
    "https://www.cnblogs.com/yangruiGB2312/p/9374377.html"
   ]
  },
  {
   "cell_type": "code",
   "execution_count": 4,
   "metadata": {},
   "outputs": [],
   "source": [
    "import numpy as np\n",
    "from sklearn.datasets import make_classification\n",
    "from sklearn.ensemble import RandomForestClassifier\n",
    "from sklearn.cross_validation import cross_val_score\n",
    "from bayes_opt import BayesianOptimization"
   ]
  },
  {
   "cell_type": "code",
   "execution_count": 5,
   "metadata": {},
   "outputs": [
    {
     "name": "stdout",
     "output_type": "stream",
     "text": [
      "0.9491571794871796\n"
     ]
    }
   ],
   "source": [
    "# 产生随机分类数据集，10个特征， 2个类别\n",
    "x, y = make_classification(n_samples=1000,n_features=10,n_classes=2)\n",
    "\n",
    "rf = RandomForestClassifier()\n",
    "print(np.mean(cross_val_score(rf, x, y, cv=20, scoring='roc_auc')))"
   ]
  },
  {
   "cell_type": "markdown",
   "metadata": {},
   "source": [
    "我们先定义一个目标函数，里面放入我们希望优化的函数。比如此时，函数输入为随机森林的所有参数，输出为模型交叉验证5次的AUC均值，作为我们的目标函数。因为bayes_opt库只支持最大值，所以最后的输出如果是越小越好，那么需要在前面加上负号，以转为最大值。由于bayes优化只能优化连续超参数，因此要加上int()转为离散超参数。"
   ]
  },
  {
   "cell_type": "code",
   "execution_count": 7,
   "metadata": {},
   "outputs": [],
   "source": [
    "def rf_cv(n_estimators, min_samples_split, max_features, max_depth):\n",
    "    val = cross_val_score(\n",
    "        RandomForestClassifier(n_estimators=int(n_estimators),\n",
    "            min_samples_split=int(min_samples_split),\n",
    "            max_features=min(max_features, 0.999), # float\n",
    "            max_depth=int(max_depth),\n",
    "            random_state=2\n",
    "        ),\n",
    "        x, y, 'roc_auc', cv=5\n",
    "    ).mean()\n",
    "    return val\n"
   ]
  },
  {
   "cell_type": "code",
   "execution_count": 9,
   "metadata": {},
   "outputs": [
    {
     "name": "stdout",
     "output_type": "stream",
     "text": [
      "|   iter    |  target   | max_depth | max_fe... | min_sa... | n_esti... |\n",
      "-------------------------------------------------------------------------\n",
      "| \u001b[0m 1       \u001b[0m | \u001b[0m 0.9561  \u001b[0m | \u001b[0m 13.85   \u001b[0m | \u001b[0m 0.3181  \u001b[0m | \u001b[0m 24.86   \u001b[0m | \u001b[0m 186.9   \u001b[0m |\n",
      "| \u001b[0m 2       \u001b[0m | \u001b[0m 0.956   \u001b[0m | \u001b[0m 6.889   \u001b[0m | \u001b[0m 0.7467  \u001b[0m | \u001b[0m 22.9    \u001b[0m | \u001b[0m 107.1   \u001b[0m |\n",
      "| \u001b[0m 3       \u001b[0m | \u001b[0m 0.953   \u001b[0m | \u001b[0m 11.62   \u001b[0m | \u001b[0m 0.6766  \u001b[0m | \u001b[0m 11.48   \u001b[0m | \u001b[0m 127.4   \u001b[0m |\n",
      "| \u001b[0m 4       \u001b[0m | \u001b[0m 0.9525  \u001b[0m | \u001b[0m 13.74   \u001b[0m | \u001b[0m 0.1578  \u001b[0m | \u001b[0m 17.46   \u001b[0m | \u001b[0m 155.4   \u001b[0m |\n",
      "| \u001b[0m 5       \u001b[0m | \u001b[0m 0.9551  \u001b[0m | \u001b[0m 12.44   \u001b[0m | \u001b[0m 0.4494  \u001b[0m | \u001b[0m 13.3    \u001b[0m | \u001b[0m 172.4   \u001b[0m |\n",
      "| \u001b[95m 6       \u001b[0m | \u001b[95m 0.9561  \u001b[0m | \u001b[95m 7.295   \u001b[0m | \u001b[95m 0.7485  \u001b[0m | \u001b[95m 24.97   \u001b[0m | \u001b[95m 10.19   \u001b[0m |\n",
      "| \u001b[0m 7       \u001b[0m | \u001b[0m 0.956   \u001b[0m | \u001b[0m 5.532   \u001b[0m | \u001b[0m 0.2249  \u001b[0m | \u001b[0m 24.6    \u001b[0m | \u001b[0m 10.03   \u001b[0m |\n",
      "| \u001b[0m 8       \u001b[0m | \u001b[0m 0.9387  \u001b[0m | \u001b[0m 14.89   \u001b[0m | \u001b[0m 0.1327  \u001b[0m | \u001b[0m 2.334   \u001b[0m | \u001b[0m 10.24   \u001b[0m |\n",
      "| \u001b[95m 9       \u001b[0m | \u001b[95m 0.9573  \u001b[0m | \u001b[95m 5.037   \u001b[0m | \u001b[95m 0.8789  \u001b[0m | \u001b[95m 3.447   \u001b[0m | \u001b[95m 249.5   \u001b[0m |\n",
      "| \u001b[0m 10      \u001b[0m | \u001b[0m 0.9564  \u001b[0m | \u001b[0m 5.017   \u001b[0m | \u001b[0m 0.9548  \u001b[0m | \u001b[0m 24.72   \u001b[0m | \u001b[0m 198.1   \u001b[0m |\n",
      "| \u001b[0m 11      \u001b[0m | \u001b[0m 0.9543  \u001b[0m | \u001b[0m 14.96   \u001b[0m | \u001b[0m 0.976   \u001b[0m | \u001b[0m 23.16   \u001b[0m | \u001b[0m 248.5   \u001b[0m |\n",
      "| \u001b[95m 12      \u001b[0m | \u001b[95m 0.9575  \u001b[0m | \u001b[95m 5.145   \u001b[0m | \u001b[95m 0.7372  \u001b[0m | \u001b[95m 24.96   \u001b[0m | \u001b[95m 63.35   \u001b[0m |\n",
      "| \u001b[0m 13      \u001b[0m | \u001b[0m 0.951   \u001b[0m | \u001b[0m 5.043   \u001b[0m | \u001b[0m 0.1297  \u001b[0m | \u001b[0m 24.8    \u001b[0m | \u001b[0m 139.3   \u001b[0m |\n",
      "| \u001b[0m 14      \u001b[0m | \u001b[0m 0.9508  \u001b[0m | \u001b[0m 14.5    \u001b[0m | \u001b[0m 0.9808  \u001b[0m | \u001b[0m 2.006   \u001b[0m | \u001b[0m 217.9   \u001b[0m |\n",
      "| \u001b[0m 15      \u001b[0m | \u001b[0m 0.9537  \u001b[0m | \u001b[0m 14.82   \u001b[0m | \u001b[0m 0.2297  \u001b[0m | \u001b[0m 24.89   \u001b[0m | \u001b[0m 35.19   \u001b[0m |\n",
      "| \u001b[95m 16      \u001b[0m | \u001b[95m 0.9591  \u001b[0m | \u001b[95m 5.148   \u001b[0m | \u001b[95m 0.4073  \u001b[0m | \u001b[95m 24.8    \u001b[0m | \u001b[95m 248.3   \u001b[0m |\n",
      "| \u001b[0m 17      \u001b[0m | \u001b[0m 0.9542  \u001b[0m | \u001b[0m 14.78   \u001b[0m | \u001b[0m 0.9923  \u001b[0m | \u001b[0m 24.29   \u001b[0m | \u001b[0m 89.26   \u001b[0m |\n",
      "| \u001b[0m 18      \u001b[0m | \u001b[0m 0.9566  \u001b[0m | \u001b[0m 5.002   \u001b[0m | \u001b[0m 0.9865  \u001b[0m | \u001b[0m 24.04   \u001b[0m | \u001b[0m 249.3   \u001b[0m |\n",
      "| \u001b[0m 19      \u001b[0m | \u001b[0m 0.9504  \u001b[0m | \u001b[0m 5.121   \u001b[0m | \u001b[0m 0.1581  \u001b[0m | \u001b[0m 2.082   \u001b[0m | \u001b[0m 91.71   \u001b[0m |\n",
      "| \u001b[0m 20      \u001b[0m | \u001b[0m 0.9555  \u001b[0m | \u001b[0m 5.322   \u001b[0m | \u001b[0m 0.9453  \u001b[0m | \u001b[0m 24.58   \u001b[0m | \u001b[0m 34.11   \u001b[0m |\n",
      "| \u001b[0m 21      \u001b[0m | \u001b[0m 0.953   \u001b[0m | \u001b[0m 5.221   \u001b[0m | \u001b[0m 0.1006  \u001b[0m | \u001b[0m 22.35   \u001b[0m | \u001b[0m 230.4   \u001b[0m |\n",
      "| \u001b[0m 22      \u001b[0m | \u001b[0m 0.9565  \u001b[0m | \u001b[0m 5.003   \u001b[0m | \u001b[0m 0.9982  \u001b[0m | \u001b[0m 2.333   \u001b[0m | \u001b[0m 171.9   \u001b[0m |\n",
      "| \u001b[95m 23      \u001b[0m | \u001b[95m 0.9607  \u001b[0m | \u001b[95m 5.244   \u001b[0m | \u001b[95m 0.3331  \u001b[0m | \u001b[95m 24.73   \u001b[0m | \u001b[95m 249.9   \u001b[0m |\n",
      "| \u001b[0m 24      \u001b[0m | \u001b[0m 0.9571  \u001b[0m | \u001b[0m 5.282   \u001b[0m | \u001b[0m 0.2894  \u001b[0m | \u001b[0m 24.82   \u001b[0m | \u001b[0m 249.7   \u001b[0m |\n",
      "| \u001b[0m 25      \u001b[0m | \u001b[0m 0.9576  \u001b[0m | \u001b[0m 5.422   \u001b[0m | \u001b[0m 0.8434  \u001b[0m | \u001b[0m 24.05   \u001b[0m | \u001b[0m 249.8   \u001b[0m |\n",
      "| \u001b[0m 26      \u001b[0m | \u001b[0m 0.9586  \u001b[0m | \u001b[0m 5.682   \u001b[0m | \u001b[0m 0.5173  \u001b[0m | \u001b[0m 2.413   \u001b[0m | \u001b[0m 250.0   \u001b[0m |\n",
      "| \u001b[0m 27      \u001b[0m | \u001b[0m 0.9537  \u001b[0m | \u001b[0m 5.433   \u001b[0m | \u001b[0m 0.1682  \u001b[0m | \u001b[0m 5.273   \u001b[0m | \u001b[0m 249.9   \u001b[0m |\n",
      "| \u001b[0m 28      \u001b[0m | \u001b[0m 0.9567  \u001b[0m | \u001b[0m 5.072   \u001b[0m | \u001b[0m 0.9915  \u001b[0m | \u001b[0m 23.62   \u001b[0m | \u001b[0m 248.9   \u001b[0m |\n",
      "| \u001b[0m 29      \u001b[0m | \u001b[0m 0.9565  \u001b[0m | \u001b[0m 5.659   \u001b[0m | \u001b[0m 0.9062  \u001b[0m | \u001b[0m 24.87   \u001b[0m | \u001b[0m 66.42   \u001b[0m |\n",
      "| \u001b[0m 30      \u001b[0m | \u001b[0m 0.9576  \u001b[0m | \u001b[0m 5.587   \u001b[0m | \u001b[0m 0.883   \u001b[0m | \u001b[0m 24.58   \u001b[0m | \u001b[0m 249.7   \u001b[0m |\n",
      "=========================================================================\n"
     ]
    }
   ],
   "source": [
    " #里面的第一个参数是我们的优化目标函数，第二个参数是我们所需要输入的超参数名称，以及其范围。超参数名称必须和目标函数的输入名称一一对应。\n",
    "rf_bo = BayesianOptimization(\n",
    "        rf_cv,\n",
    "        {'n_estimators': (10, 250),\n",
    "        'min_samples_split': (2, 25),\n",
    "        'max_features': (0.1, 0.999),\n",
    "        'max_depth': (5, 15)}\n",
    "    )\n",
    "\n",
    "rf_bo.maximize()\n",
    "print rf_bo.max\n",
    "#  rf_bo.res"
   ]
  },
  {
   "cell_type": "markdown",
   "metadata": {},
   "source": [
    "上面bayes算法得到的参数并不一定最优，当然我们会遇到一种情况，就是我们已经知道有一组或是几组参数是非常好的了，我们想知道其附近有没有更好的。这个操作相当于上文bayes优化中的Explore操作，而bayes_opt库给了我们实现此方法的函数："
   ]
  },
  {
   "cell_type": "code",
   "execution_count": 37,
   "metadata": {},
   "outputs": [
    {
     "data": {
      "text/plain": [
       "\"\\nrf_bo.explore(\\n    {'n_estimators': [10, 100, 200],\\n        'min_samples_split': [2, 10, 20],\\n        'max_features': [0.1, 0.5, 0.9],\\n        'max_depth': [5, 10, 15]\\n    }\\n)\\n\""
      ]
     },
     "execution_count": 37,
     "metadata": {},
     "output_type": "execute_result"
    }
   ],
   "source": [
    "###   已移除\n",
    "'''\n",
    "rf_bo.explore(\n",
    "    {'n_estimators': [10, 100, 200],\n",
    "        'min_samples_split': [2, 10, 20],\n",
    "        'max_features': [0.1, 0.5, 0.9],\n",
    "        'max_depth': [5, 10, 15]\n",
    "    }\n",
    ")\n",
    "'''"
   ]
  },
  {
   "cell_type": "markdown",
   "metadata": {},
   "source": [
    "设置核函数\n",
    "https://scikit-learn.org/stable/modules/generated/sklearn.gaussian_process.GaussianProcessRegressor.html"
   ]
  },
  {
   "cell_type": "code",
   "execution_count": 35,
   "metadata": {},
   "outputs": [
    {
     "name": "stdout",
     "output_type": "stream",
     "text": [
      "|   iter    |  target   | max_depth | max_fe... | min_sa... | n_esti... |\n",
      "-------------------------------------------------------------------------\n",
      "| \u001b[0m 66      \u001b[0m | \u001b[0m 0.9517  \u001b[0m | \u001b[0m 13.13   \u001b[0m | \u001b[0m 0.1642  \u001b[0m | \u001b[0m 12.18   \u001b[0m | \u001b[0m 109.0   \u001b[0m |\n",
      "| \u001b[0m 67      \u001b[0m | \u001b[0m 0.9573  \u001b[0m | \u001b[0m 6.266   \u001b[0m | \u001b[0m 0.6128  \u001b[0m | \u001b[0m 14.73   \u001b[0m | \u001b[0m 15.6    \u001b[0m |\n",
      "| \u001b[0m 68      \u001b[0m | \u001b[0m 0.9573  \u001b[0m | \u001b[0m 9.22    \u001b[0m | \u001b[0m 0.2138  \u001b[0m | \u001b[0m 19.12   \u001b[0m | \u001b[0m 157.5   \u001b[0m |\n",
      "| \u001b[0m 69      \u001b[0m | \u001b[0m 0.9585  \u001b[0m | \u001b[0m 7.411   \u001b[0m | \u001b[0m 0.2246  \u001b[0m | \u001b[0m 16.21   \u001b[0m | \u001b[0m 177.8   \u001b[0m |\n",
      "| \u001b[0m 70      \u001b[0m | \u001b[0m 0.959   \u001b[0m | \u001b[0m 5.431   \u001b[0m | \u001b[0m 0.5287  \u001b[0m | \u001b[0m 8.005   \u001b[0m | \u001b[0m 65.03   \u001b[0m |\n",
      "| \u001b[0m 71      \u001b[0m | \u001b[0m 0.9562  \u001b[0m | \u001b[0m 5.756   \u001b[0m | \u001b[0m 0.9523  \u001b[0m | \u001b[0m 4.931   \u001b[0m | \u001b[0m 66.84   \u001b[0m |\n",
      "| \u001b[0m 72      \u001b[0m | \u001b[0m 0.9496  \u001b[0m | \u001b[0m 5.0     \u001b[0m | \u001b[0m 0.1     \u001b[0m | \u001b[0m 10.15   \u001b[0m | \u001b[0m 67.78   \u001b[0m |\n",
      "| \u001b[0m 73      \u001b[0m | \u001b[0m 0.9508  \u001b[0m | \u001b[0m 8.867   \u001b[0m | \u001b[0m 0.1863  \u001b[0m | \u001b[0m 8.421   \u001b[0m | \u001b[0m 64.02   \u001b[0m |\n",
      "| \u001b[0m 74      \u001b[0m | \u001b[0m 0.9562  \u001b[0m | \u001b[0m 6.918   \u001b[0m | \u001b[0m 0.7782  \u001b[0m | \u001b[0m 15.5    \u001b[0m | \u001b[0m 181.3   \u001b[0m |\n",
      "| \u001b[0m 75      \u001b[0m | \u001b[0m 0.9553  \u001b[0m | \u001b[0m 5.547   \u001b[0m | \u001b[0m 0.8654  \u001b[0m | \u001b[0m 7.909   \u001b[0m | \u001b[0m 61.37   \u001b[0m |\n",
      "| \u001b[0m 76      \u001b[0m | \u001b[0m 0.9572  \u001b[0m | \u001b[0m 7.675   \u001b[0m | \u001b[0m 0.4324  \u001b[0m | \u001b[0m 12.64   \u001b[0m | \u001b[0m 178.6   \u001b[0m |\n",
      "| \u001b[0m 77      \u001b[0m | \u001b[0m 0.9549  \u001b[0m | \u001b[0m 7.57    \u001b[0m | \u001b[0m 0.7481  \u001b[0m | \u001b[0m 13.91   \u001b[0m | \u001b[0m 174.9   \u001b[0m |\n",
      "| \u001b[0m 78      \u001b[0m | \u001b[0m 0.957   \u001b[0m | \u001b[0m 10.81   \u001b[0m | \u001b[0m 0.2315  \u001b[0m | \u001b[0m 15.06   \u001b[0m | \u001b[0m 177.9   \u001b[0m |\n",
      "| \u001b[0m 79      \u001b[0m | \u001b[0m 0.9559  \u001b[0m | \u001b[0m 8.516   \u001b[0m | \u001b[0m 0.6329  \u001b[0m | \u001b[0m 19.07   \u001b[0m | \u001b[0m 179.7   \u001b[0m |\n",
      "| \u001b[0m 80      \u001b[0m | \u001b[0m 0.9553  \u001b[0m | \u001b[0m 9.755   \u001b[0m | \u001b[0m 0.7186  \u001b[0m | \u001b[0m 17.98   \u001b[0m | \u001b[0m 175.5   \u001b[0m |\n",
      "| \u001b[0m 81      \u001b[0m | \u001b[0m 0.9573  \u001b[0m | \u001b[0m 5.098   \u001b[0m | \u001b[0m 0.7008  \u001b[0m | \u001b[0m 11.36   \u001b[0m | \u001b[0m 63.31   \u001b[0m |\n",
      "| \u001b[0m 82      \u001b[0m | \u001b[0m 0.9537  \u001b[0m | \u001b[0m 5.368   \u001b[0m | \u001b[0m 0.1165  \u001b[0m | \u001b[0m 19.3    \u001b[0m | \u001b[0m 177.6   \u001b[0m |\n",
      "| \u001b[0m 83      \u001b[0m | \u001b[0m 0.9545  \u001b[0m | \u001b[0m 7.31    \u001b[0m | \u001b[0m 0.9569  \u001b[0m | \u001b[0m 20.05   \u001b[0m | \u001b[0m 212.6   \u001b[0m |\n",
      "| \u001b[0m 84      \u001b[0m | \u001b[0m 0.9561  \u001b[0m | \u001b[0m 9.264   \u001b[0m | \u001b[0m 0.7004  \u001b[0m | \u001b[0m 20.69   \u001b[0m | \u001b[0m 217.5   \u001b[0m |\n",
      "| \u001b[0m 85      \u001b[0m | \u001b[0m 0.9575  \u001b[0m | \u001b[0m 7.592   \u001b[0m | \u001b[0m 0.2331  \u001b[0m | \u001b[0m 24.24   \u001b[0m | \u001b[0m 217.7   \u001b[0m |\n",
      "| \u001b[0m 86      \u001b[0m | \u001b[0m 0.9581  \u001b[0m | \u001b[0m 5.707   \u001b[0m | \u001b[0m 0.6243  \u001b[0m | \u001b[0m 21.05   \u001b[0m | \u001b[0m 219.4   \u001b[0m |\n",
      "| \u001b[0m 87      \u001b[0m | \u001b[0m 0.9554  \u001b[0m | \u001b[0m 6.892   \u001b[0m | \u001b[0m 0.9828  \u001b[0m | \u001b[0m 24.83   \u001b[0m | \u001b[0m 214.1   \u001b[0m |\n",
      "| \u001b[0m 88      \u001b[0m | \u001b[0m 0.958   \u001b[0m | \u001b[0m 5.976   \u001b[0m | \u001b[0m 0.6547  \u001b[0m | \u001b[0m 18.12   \u001b[0m | \u001b[0m 216.9   \u001b[0m |\n",
      "| \u001b[0m 89      \u001b[0m | \u001b[0m 0.9565  \u001b[0m | \u001b[0m 7.429   \u001b[0m | \u001b[0m 0.7423  \u001b[0m | \u001b[0m 23.51   \u001b[0m | \u001b[0m 221.5   \u001b[0m |\n",
      "| \u001b[0m 90      \u001b[0m | \u001b[0m 0.9548  \u001b[0m | \u001b[0m 6.315   \u001b[0m | \u001b[0m 0.9778  \u001b[0m | \u001b[0m 17.68   \u001b[0m | \u001b[0m 221.0   \u001b[0m |\n",
      "| \u001b[0m 91      \u001b[0m | \u001b[0m 0.957   \u001b[0m | \u001b[0m 6.047   \u001b[0m | \u001b[0m 0.6398  \u001b[0m | \u001b[0m 16.45   \u001b[0m | \u001b[0m 243.9   \u001b[0m |\n",
      "| \u001b[0m 92      \u001b[0m | \u001b[0m 0.9584  \u001b[0m | \u001b[0m 5.009   \u001b[0m | \u001b[0m 0.2251  \u001b[0m | \u001b[0m 14.6    \u001b[0m | \u001b[0m 216.3   \u001b[0m |\n",
      "| \u001b[0m 93      \u001b[0m | \u001b[0m 0.9584  \u001b[0m | \u001b[0m 8.35    \u001b[0m | \u001b[0m 0.204   \u001b[0m | \u001b[0m 15.93   \u001b[0m | \u001b[0m 214.9   \u001b[0m |\n",
      "| \u001b[0m 94      \u001b[0m | \u001b[0m 0.9562  \u001b[0m | \u001b[0m 6.078   \u001b[0m | \u001b[0m 0.6651  \u001b[0m | \u001b[0m 13.99   \u001b[0m | \u001b[0m 212.8   \u001b[0m |\n",
      "| \u001b[0m 95      \u001b[0m | \u001b[0m 0.9541  \u001b[0m | \u001b[0m 8.248   \u001b[0m | \u001b[0m 0.7304  \u001b[0m | \u001b[0m 12.44   \u001b[0m | \u001b[0m 216.3   \u001b[0m |\n",
      "=========================================================================\n"
     ]
    }
   ],
   "source": [
    "gp_param={'kernel':None}\n",
    "rf_bo.maximize(**gp_param)"
   ]
  },
  {
   "cell_type": "code",
   "execution_count": 36,
   "metadata": {},
   "outputs": [
    {
     "data": {
      "text/plain": [
       "0.9594251282051282"
      ]
     },
     "execution_count": 36,
     "metadata": {},
     "output_type": "execute_result"
    }
   ],
   "source": [
    "rf = RandomForestClassifier(max_depth=6, max_features=0.39517, min_samples_split=2, n_estimators=250)\n",
    "np.mean(cross_val_score(rf, x, y, cv=20, scoring='roc_auc'))"
   ]
  },
  {
   "cell_type": "markdown",
   "metadata": {},
   "source": [
    "-----\n",
    "### 其他参考博客\n",
    "http://www.sohu.com/a/165565029_465975\n",
    "https://yq.aliyun.com/ziliao/313007"
   ]
  },
  {
   "cell_type": "code",
   "execution_count": null,
   "metadata": {},
   "outputs": [],
   "source": []
  }
 ],
 "metadata": {
  "kernelspec": {
   "display_name": "Python 2",
   "language": "python",
   "name": "python2"
  },
  "language_info": {
   "codemirror_mode": {
    "name": "ipython",
    "version": 2
   },
   "file_extension": ".py",
   "mimetype": "text/x-python",
   "name": "python",
   "nbconvert_exporter": "python",
   "pygments_lexer": "ipython2",
   "version": "2.7.14"
  }
 },
 "nbformat": 4,
 "nbformat_minor": 2
}
